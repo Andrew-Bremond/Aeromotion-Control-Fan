{
  "nbformat": 4,
  "nbformat_minor": 0,
  "metadata": {
    "colab": {
      "provenance": [],
      "include_colab_link": true
    },
    "kernelspec": {
      "name": "python3",
      "display_name": "Python 3"
    },
    "language_info": {
      "name": "python"
    }
  },
  "cells": [
    {
      "cell_type": "markdown",
      "metadata": {
        "id": "view-in-github",
        "colab_type": "text"
      },
      "source": [
        "<a href=\"https://colab.research.google.com/github/Andrew-Bremond/Aeromotion-Control-Fan/blob/main/Getting_Familiar_with_Trees_sitter.ipynb\" target=\"_parent\"><img src=\"https://colab.research.google.com/assets/colab-badge.svg\" alt=\"Open In Colab\"/></a>"
      ]
    },
    {
      "cell_type": "code",
      "source": [
        "!pip install tree-sitter\n",
        "!pip install tree-sitter-python\n",
        "!pip install tree-sitter-java"
      ],
      "metadata": {
        "colab": {
          "base_uri": "https://localhost:8080/"
        },
        "id": "uYzCzWRmkCmg",
        "outputId": "ed5cb9fd-cc8b-4be1-89f9-6e805bcf4ead"
      },
      "execution_count": null,
      "outputs": [
        {
          "output_type": "stream",
          "name": "stdout",
          "text": [
            "Collecting tree-sitter\n",
            "  Downloading tree_sitter-0.23.1-cp310-cp310-manylinux_2_17_x86_64.manylinux2014_x86_64.whl.metadata (9.8 kB)\n",
            "Downloading tree_sitter-0.23.1-cp310-cp310-manylinux_2_17_x86_64.manylinux2014_x86_64.whl (560 kB)\n",
            "\u001b[2K   \u001b[90m━━━━━━━━━━━━━━━━━━━━━━━━━━━━━━━━━━━━━━━━\u001b[0m \u001b[32m560.8/560.8 kB\u001b[0m \u001b[31m6.5 MB/s\u001b[0m eta \u001b[36m0:00:00\u001b[0m\n",
            "\u001b[?25hInstalling collected packages: tree-sitter\n",
            "Successfully installed tree-sitter-0.23.1\n",
            "Collecting tree-sitter-python\n",
            "  Downloading tree_sitter_python-0.23.2-cp39-abi3-manylinux_2_5_x86_64.manylinux1_x86_64.manylinux_2_17_x86_64.manylinux2014_x86_64.whl.metadata (1.9 kB)\n",
            "Downloading tree_sitter_python-0.23.2-cp39-abi3-manylinux_2_5_x86_64.manylinux1_x86_64.manylinux_2_17_x86_64.manylinux2014_x86_64.whl (111 kB)\n",
            "\u001b[2K   \u001b[90m━━━━━━━━━━━━━━━━━━━━━━━━━━━━━━━━━━━━━━━━\u001b[0m \u001b[32m111.9/111.9 kB\u001b[0m \u001b[31m2.1 MB/s\u001b[0m eta \u001b[36m0:00:00\u001b[0m\n",
            "\u001b[?25hInstalling collected packages: tree-sitter-python\n",
            "Successfully installed tree-sitter-python-0.23.2\n",
            "Collecting tree-sitter-java\n",
            "  Downloading tree_sitter_java-0.23.2-cp38-abi3-manylinux_2_5_x86_64.manylinux1_x86_64.manylinux_2_17_x86_64.manylinux2014_x86_64.whl.metadata (1.7 kB)\n",
            "Downloading tree_sitter_java-0.23.2-cp38-abi3-manylinux_2_5_x86_64.manylinux1_x86_64.manylinux_2_17_x86_64.manylinux2014_x86_64.whl (86 kB)\n",
            "\u001b[2K   \u001b[90m━━━━━━━━━━━━━━━━━━━━━━━━━━━━━━━━━━━━━━━━\u001b[0m \u001b[32m86.8/86.8 kB\u001b[0m \u001b[31m1.9 MB/s\u001b[0m eta \u001b[36m0:00:00\u001b[0m\n",
            "\u001b[?25hInstalling collected packages: tree-sitter-java\n",
            "Successfully installed tree-sitter-java-0.23.2\n"
          ]
        }
      ]
    },
    {
      "cell_type": "code",
      "source": [
        "from tree_sitter import Language, Parser\n",
        "import tree_sitter_python as tspython\n",
        "import tree_sitter_java as tsjava\n",
        "\n",
        "JAVA_LANGUAGE = Language(tsjava.language())\n",
        "\n",
        "parser = Parser(JAVA_LANGUAGE)"
      ],
      "metadata": {
        "id": "vhEMDsLtkisf"
      },
      "execution_count": null,
      "outputs": []
    },
    {
      "cell_type": "code",
      "execution_count": null,
      "metadata": {
        "id": "yGE15FyNd-ep"
      },
      "outputs": [],
      "source": [
        "# Function to recursively traverse the AST and print node attributes\n",
        "def traverse(node, depth=0):\n",
        "  # Print the node's type\n",
        "  print(f\"{'----' * depth} (type){node.type} \", end='')\n",
        "\n",
        "  # Print node's text if it is a terminal leaf node\n",
        "  if node.child_count == 0:\n",
        "    node_text = node.text.decode('utf-8') if node.text else ''\n",
        "    print(f', (text){node_text}', end='')\n",
        "\n",
        "  print()\n",
        "\n",
        "  # Recursively traverse child nodes\n",
        "  for child in node.children:\n",
        "      traverse(child, depth + 1)"
      ]
    },
    {
      "cell_type": "code",
      "source": [
        "# Your code here\n",
        "code = b\"\"\"\n",
        "public class Example {\n",
        "    public void method() {\n",
        "\n",
        "    }\n",
        "}\n",
        "\"\"\""
      ],
      "metadata": {
        "id": "WBs0rNsqkrLh"
      },
      "execution_count": null,
      "outputs": []
    },
    {
      "cell_type": "code",
      "source": [
        "tree = parser.parse(code)\n",
        "root_node = tree.root_node\n",
        "traverse(root_node)"
      ],
      "metadata": {
        "id": "rkmdQ0SHlNzJ"
      },
      "execution_count": null,
      "outputs": []
    }
  ]
}